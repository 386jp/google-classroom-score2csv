{
  "nbformat": 4,
  "nbformat_minor": 0,
  "metadata": {
    "colab": {
      "name": "google_classroom_score2csv.ipynb",
      "provenance": [],
      "collapsed_sections": []
    },
    "kernelspec": {
      "name": "python3",
      "display_name": "Python 3"
    }
  },
  "cells": [
    {
      "cell_type": "markdown",
      "metadata": {
        "id": "BfBa34EZIKE5"
      },
      "source": [
        "Google Classroomの成績情報をCSV出力するコード"
      ]
    },
    {
      "cell_type": "code",
      "metadata": {
        "id": "b_Pclg-PvlDH"
      },
      "source": [
        "import os\n",
        "import csv\n",
        "import pickle\n",
        "import google.oauth2.credentials\n",
        "import google_auth_oauthlib.flow\n",
        "import googleapiclient.discovery\n",
        "import googleapiclient.errors\n",
        "\n",
        "class GC_Score2CSV:\n",
        "\n",
        "  def __init__(self, client_secret_json):\n",
        "    self.CLIENT_SECRETS_FILE = client_secret_json\n",
        "    self.SCOPES = ['https://www.googleapis.com/auth/classroom.courses.readonly', 'https://www.googleapis.com/auth/classroom.student-submissions.students.readonly', 'https://www.googleapis.com/auth/classroom.rosters.readonly', 'https://www.googleapis.com/auth/classroom.profile.emails']\n",
        "    self.API_SERVICE_NAME = 'classroom'\n",
        "    self.API_VERSION = 'v1'\n",
        "    self.service = self.get_authenticated_service()\n",
        "    self.courseId = None\n",
        "\n",
        "  # Google Auth Init\n",
        "  def get_authenticated_service(self):\n",
        "    if os.path.exists(\"CREDENTIALS_PICKLE_FILE\"):\n",
        "        with open(\"CREDENTIALS_PICKLE_FILE\", 'rb') as f:\n",
        "            credentials = pickle.load(f)\n",
        "    else:\n",
        "        flow = google_auth_oauthlib.flow.InstalledAppFlow.from_client_secrets_file(self.CLIENT_SECRETS_FILE, self.SCOPES)\n",
        "        credentials = flow.run_console()\n",
        "        with open(\"CREDENTIALS_PICKLE_FILE\", 'wb') as f:\n",
        "            pickle.dump(credentials, f)\n",
        "    return googleapiclient.discovery.build(self.API_SERVICE_NAME, self.API_VERSION, credentials=credentials)\n",
        "\n",
        "  # Get course info\n",
        "  def get_course_info(self, nextPageToken=None, output=[]):\n",
        "    request = self.service.courses().list(\n",
        "        pageToken=nextPageToken\n",
        "    ).execute()\n",
        "    for info in request[\"courses\"]:\n",
        "      output.append(info)\n",
        "    try:\n",
        "      nextPageToken = request[\"nextPageToken\"]\n",
        "    except:\n",
        "      return output\n",
        "    else:\n",
        "      return get_course_info(nextPageToken, output)\n",
        "\n",
        "  # Set course ID\n",
        "  def set_target_course(self, courseinfo=None):\n",
        "    if courseinfo == None:\n",
        "      courseinfo = self.get_course_info()\n",
        "    print(\"Course lists is shown below: \\n\")\n",
        "    for i in range(len(courseinfo)):\n",
        "      print(str(i + 1) + \": \" + courseinfo[i][\"name\"] + \" (\" + courseinfo[i][\"alternateLink\"] + \")\")\n",
        "    id = 0\n",
        "    print(\"\")\n",
        "    while True:\n",
        "      if id in range(1, len(courseinfo) + 1):\n",
        "        self.courseId = courseinfo[id - 1][\"id\"]\n",
        "        break\n",
        "      else:\n",
        "        id = int(input(\"Enter course ID: \"))\n",
        "\n",
        "  # Get students info\n",
        "  def get_students_info(self, courseId, nextPageToken=None, output=[]):\n",
        "    request = self.service.courses().students().list(\n",
        "        courseId=courseId,\n",
        "        pageToken=nextPageToken\n",
        "    ).execute()\n",
        "    for info in request[\"students\"]:\n",
        "      output.append(info)\n",
        "    try:\n",
        "      nextPageToken = request[\"nextPageToken\"]\n",
        "    except:\n",
        "      return output\n",
        "    else:\n",
        "      return self.get_students_info(courseId, nextPageToken, output)\n",
        "\n",
        "  # Get assignments info\n",
        "  def get_assignments_info(self, courseId, nextPageToken=None, output=[]):\n",
        "    request = self.service.courses().courseWork().list(\n",
        "        courseId=courseId,\n",
        "        pageToken=nextPageToken\n",
        "    ).execute()\n",
        "    for info in request[\"courseWork\"]:\n",
        "      output.append(info)\n",
        "    try:\n",
        "      nextPageToken = request[\"nextPageToken\"]\n",
        "    except:\n",
        "      return output\n",
        "    else:\n",
        "      return self.get_assignments_info(courseId, nextPageToken, output)\n",
        "\n",
        "\n",
        "  # Get all of the submitted assignments info\n",
        "  def get_submitted_assignments_all_info(self, courseId, nextPageToken=None, output=[]):\n",
        "    request = self.service.courses().courseWork().studentSubmissions().list(\n",
        "        courseId=courseId,\n",
        "        courseWorkId=\"-\",\n",
        "        pageToken=nextPageToken\n",
        "    ).execute()\n",
        "    for info in request[\"studentSubmissions\"]:\n",
        "      output.append(info)\n",
        "    try:\n",
        "      nextPageToken = request[\"nextPageToken\"]\n",
        "    except:\n",
        "      return output\n",
        "    else:\n",
        "      return self.get_submitted_assignments_all_info(courseId, nextPageToken, output)\n",
        "\n",
        "  # Get submitted assignments info for specific assignment\n",
        "  def get_submitted_assignments_info(self, courseId, assignmentId, assignments_all_info=None):\n",
        "    if assignments_all_info == None:\n",
        "      assignments_all_info = self.get_submitted_assignments_all_info(self.courseId)\n",
        "    output = []\n",
        "    for info in assignments_all_info:\n",
        "      if info[\"courseWorkId\"] == assignmentId:\n",
        "        output.append(info)\n",
        "    return output\n",
        "\n",
        "  # Get score of assignments for each student\n",
        "  def get_submitted_assignments_score(self, courseId, assignmentId, assignments_info=None, assignments_all_info=None):\n",
        "    if assignments_info == None:\n",
        "      assignments_info = self.get_submitted_assignments_info(courseId, assignmentId, assignments_all_info)\n",
        "    output = {}\n",
        "    for info in assignments_info:\n",
        "      try:\n",
        "        # 学生に返却されている点数を出力した場合はassignedGradeを有効化、学生に返却されていない仮の点数を出力したい場合はdraftGradeをコメントアウト解除し実行する\n",
        "        # output[info[\"userId\"]] = info[\"assignedGrade\"]\n",
        "        output[info[\"userId\"]] = info[\"draftGrade\"]\n",
        "      except:\n",
        "        pass\n",
        "    return output\n",
        "\n",
        "  # CSV Export\n",
        "  def export_score_data(self, courseId=None, exportPath=\"./export_score.csv\"):\n",
        "    if courseId == None:\n",
        "      courseId = self.courseId\n",
        "\n",
        "    studentsinfo = self.get_students_info(self.courseId)\n",
        "    assignmentsinfo = self.get_assignments_info(self.courseId)\n",
        "    output = []\n",
        "    assignments_allinfo = self.get_submitted_assignments_all_info(self.courseId)\n",
        "    for info in assignmentsinfo:\n",
        "      output_list = self.get_submitted_assignments_score(self.courseId, info[\"id\"], assignments_all_info=assignments_allinfo)\n",
        "      output_list['info'] = {'id': info[\"id\"], 'title': info.get(\"title\"), 'max': info.get(\"maxPoints\")}\n",
        "      output.append(output_list)\n",
        "\n",
        "    final_output = []\n",
        "    final_output.append([info.get(\"info\")[\"title\"] for info in output])\n",
        "    final_output[0].insert(0, \"EmailAddress\")\n",
        "    final_output.append([info.get(\"info\")[\"max\"] for info in output])\n",
        "    final_output[1].insert(0, \"max_points\")\n",
        "    for user in studentsinfo:\n",
        "      b = [info.get(user[\"profile\"][\"id\"]) for info in output]\n",
        "      b.insert(0, user[\"profile\"][\"emailAddress\"])\n",
        "      final_output.append(b)\n",
        "\n",
        "    with open(exportPath, 'w') as f:\n",
        "        writer = csv.writer(f)\n",
        "        writer.writerows(final_output)"
      ],
      "execution_count": 5,
      "outputs": []
    },
    {
      "cell_type": "markdown",
      "metadata": {
        "id": "FXPXjpEoImVE"
      },
      "source": [
        "GoogleのAPIを有効化するために、Google API Consoleからプロジェクトを作成し、Oauthクライアントを作成 (JSONで認証情報をダウンロードしてくる)すると同時に、Google Classroom APIを有効化しておく"
      ]
    },
    {
      "cell_type": "code",
      "metadata": {
        "id": "55oV9YG_1yfy"
      },
      "source": [
        "score2csv = GC_Score2CSV(\"./client_secret_hogehoge.json\")"
      ],
      "execution_count": 6,
      "outputs": []
    },
    {
      "cell_type": "markdown",
      "metadata": {
        "id": "6rE8a1xzI7b9"
      },
      "source": [
        "成績情報を取得したいクラスを選択する"
      ]
    },
    {
      "cell_type": "code",
      "metadata": {
        "id": "fFCPtnvz730A"
      },
      "source": [
        "score2csv.set_target_course()"
      ],
      "execution_count": null,
      "outputs": []
    },
    {
      "cell_type": "markdown",
      "metadata": {
        "id": "lTWzda2kJAJh"
      },
      "source": [
        "これを実行することによって、Google ClassroomのGradeページのような形で成績情報がダウンロードできる"
      ]
    },
    {
      "cell_type": "code",
      "metadata": {
        "id": "uAqUEbQrZ4nU"
      },
      "source": [
        "score2csv.export_score_data()"
      ],
      "execution_count": 8,
      "outputs": []
    }
  ]
}